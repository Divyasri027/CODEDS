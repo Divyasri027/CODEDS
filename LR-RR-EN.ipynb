{
 "cells": [
  {
   "cell_type": "code",
   "execution_count": 1,
   "id": "dfcaa218",
   "metadata": {},
   "outputs": [],
   "source": [
    "import pandas as pd"
   ]
  },
  {
   "cell_type": "code",
   "execution_count": 2,
   "id": "ccdbdb51",
   "metadata": {},
   "outputs": [],
   "source": [
    "data=pd.read_csv(\"/home/placement/Desktop/divyasri/fiat500.csv\")"
   ]
  },
  {
   "cell_type": "code",
   "execution_count": 3,
   "id": "ba534bb8",
   "metadata": {},
   "outputs": [
    {
     "data": {
      "text/html": [
       "<div>\n",
       "<style scoped>\n",
       "    .dataframe tbody tr th:only-of-type {\n",
       "        vertical-align: middle;\n",
       "    }\n",
       "\n",
       "    .dataframe tbody tr th {\n",
       "        vertical-align: top;\n",
       "    }\n",
       "\n",
       "    .dataframe thead th {\n",
       "        text-align: right;\n",
       "    }\n",
       "</style>\n",
       "<table border=\"1\" class=\"dataframe\">\n",
       "  <thead>\n",
       "    <tr style=\"text-align: right;\">\n",
       "      <th></th>\n",
       "      <th>ID</th>\n",
       "      <th>engine_power</th>\n",
       "      <th>age_in_days</th>\n",
       "      <th>km</th>\n",
       "      <th>previous_owners</th>\n",
       "      <th>lat</th>\n",
       "      <th>lon</th>\n",
       "      <th>price</th>\n",
       "    </tr>\n",
       "  </thead>\n",
       "  <tbody>\n",
       "    <tr>\n",
       "      <th>count</th>\n",
       "      <td>1538.000000</td>\n",
       "      <td>1538.000000</td>\n",
       "      <td>1538.000000</td>\n",
       "      <td>1538.000000</td>\n",
       "      <td>1538.000000</td>\n",
       "      <td>1538.000000</td>\n",
       "      <td>1538.000000</td>\n",
       "      <td>1538.000000</td>\n",
       "    </tr>\n",
       "    <tr>\n",
       "      <th>mean</th>\n",
       "      <td>769.500000</td>\n",
       "      <td>51.904421</td>\n",
       "      <td>1650.980494</td>\n",
       "      <td>53396.011704</td>\n",
       "      <td>1.123537</td>\n",
       "      <td>43.541361</td>\n",
       "      <td>11.563428</td>\n",
       "      <td>8576.003901</td>\n",
       "    </tr>\n",
       "    <tr>\n",
       "      <th>std</th>\n",
       "      <td>444.126671</td>\n",
       "      <td>3.988023</td>\n",
       "      <td>1289.522278</td>\n",
       "      <td>40046.830723</td>\n",
       "      <td>0.416423</td>\n",
       "      <td>2.133518</td>\n",
       "      <td>2.328190</td>\n",
       "      <td>1939.958641</td>\n",
       "    </tr>\n",
       "    <tr>\n",
       "      <th>min</th>\n",
       "      <td>1.000000</td>\n",
       "      <td>51.000000</td>\n",
       "      <td>366.000000</td>\n",
       "      <td>1232.000000</td>\n",
       "      <td>1.000000</td>\n",
       "      <td>36.855839</td>\n",
       "      <td>7.245400</td>\n",
       "      <td>2500.000000</td>\n",
       "    </tr>\n",
       "    <tr>\n",
       "      <th>25%</th>\n",
       "      <td>385.250000</td>\n",
       "      <td>51.000000</td>\n",
       "      <td>670.000000</td>\n",
       "      <td>20006.250000</td>\n",
       "      <td>1.000000</td>\n",
       "      <td>41.802990</td>\n",
       "      <td>9.505090</td>\n",
       "      <td>7122.500000</td>\n",
       "    </tr>\n",
       "    <tr>\n",
       "      <th>50%</th>\n",
       "      <td>769.500000</td>\n",
       "      <td>51.000000</td>\n",
       "      <td>1035.000000</td>\n",
       "      <td>39031.000000</td>\n",
       "      <td>1.000000</td>\n",
       "      <td>44.394096</td>\n",
       "      <td>11.869260</td>\n",
       "      <td>9000.000000</td>\n",
       "    </tr>\n",
       "    <tr>\n",
       "      <th>75%</th>\n",
       "      <td>1153.750000</td>\n",
       "      <td>51.000000</td>\n",
       "      <td>2616.000000</td>\n",
       "      <td>79667.750000</td>\n",
       "      <td>1.000000</td>\n",
       "      <td>45.467960</td>\n",
       "      <td>12.769040</td>\n",
       "      <td>10000.000000</td>\n",
       "    </tr>\n",
       "    <tr>\n",
       "      <th>max</th>\n",
       "      <td>1538.000000</td>\n",
       "      <td>77.000000</td>\n",
       "      <td>4658.000000</td>\n",
       "      <td>235000.000000</td>\n",
       "      <td>4.000000</td>\n",
       "      <td>46.795612</td>\n",
       "      <td>18.365520</td>\n",
       "      <td>11100.000000</td>\n",
       "    </tr>\n",
       "  </tbody>\n",
       "</table>\n",
       "</div>"
      ],
      "text/plain": [
       "                ID  engine_power  age_in_days             km  previous_owners  \\\n",
       "count  1538.000000   1538.000000  1538.000000    1538.000000      1538.000000   \n",
       "mean    769.500000     51.904421  1650.980494   53396.011704         1.123537   \n",
       "std     444.126671      3.988023  1289.522278   40046.830723         0.416423   \n",
       "min       1.000000     51.000000   366.000000    1232.000000         1.000000   \n",
       "25%     385.250000     51.000000   670.000000   20006.250000         1.000000   \n",
       "50%     769.500000     51.000000  1035.000000   39031.000000         1.000000   \n",
       "75%    1153.750000     51.000000  2616.000000   79667.750000         1.000000   \n",
       "max    1538.000000     77.000000  4658.000000  235000.000000         4.000000   \n",
       "\n",
       "               lat          lon         price  \n",
       "count  1538.000000  1538.000000   1538.000000  \n",
       "mean     43.541361    11.563428   8576.003901  \n",
       "std       2.133518     2.328190   1939.958641  \n",
       "min      36.855839     7.245400   2500.000000  \n",
       "25%      41.802990     9.505090   7122.500000  \n",
       "50%      44.394096    11.869260   9000.000000  \n",
       "75%      45.467960    12.769040  10000.000000  \n",
       "max      46.795612    18.365520  11100.000000  "
      ]
     },
     "execution_count": 3,
     "metadata": {},
     "output_type": "execute_result"
    }
   ],
   "source": [
    "data.describe()"
   ]
  },
  {
   "cell_type": "code",
   "execution_count": 4,
   "id": "19a81775",
   "metadata": {},
   "outputs": [],
   "source": [
    "data1=data.drop(['ID','lat','lon'],axis=1)"
   ]
  },
  {
   "cell_type": "code",
   "execution_count": 5,
   "id": "f6dcbbfb",
   "metadata": {},
   "outputs": [
    {
     "data": {
      "text/html": [
       "<div>\n",
       "<style scoped>\n",
       "    .dataframe tbody tr th:only-of-type {\n",
       "        vertical-align: middle;\n",
       "    }\n",
       "\n",
       "    .dataframe tbody tr th {\n",
       "        vertical-align: top;\n",
       "    }\n",
       "\n",
       "    .dataframe thead th {\n",
       "        text-align: right;\n",
       "    }\n",
       "</style>\n",
       "<table border=\"1\" class=\"dataframe\">\n",
       "  <thead>\n",
       "    <tr style=\"text-align: right;\">\n",
       "      <th></th>\n",
       "      <th>model</th>\n",
       "      <th>engine_power</th>\n",
       "      <th>age_in_days</th>\n",
       "      <th>km</th>\n",
       "      <th>previous_owners</th>\n",
       "      <th>price</th>\n",
       "    </tr>\n",
       "  </thead>\n",
       "  <tbody>\n",
       "    <tr>\n",
       "      <th>0</th>\n",
       "      <td>lounge</td>\n",
       "      <td>51</td>\n",
       "      <td>882</td>\n",
       "      <td>25000</td>\n",
       "      <td>1</td>\n",
       "      <td>8900</td>\n",
       "    </tr>\n",
       "    <tr>\n",
       "      <th>1</th>\n",
       "      <td>pop</td>\n",
       "      <td>51</td>\n",
       "      <td>1186</td>\n",
       "      <td>32500</td>\n",
       "      <td>1</td>\n",
       "      <td>8800</td>\n",
       "    </tr>\n",
       "    <tr>\n",
       "      <th>2</th>\n",
       "      <td>sport</td>\n",
       "      <td>74</td>\n",
       "      <td>4658</td>\n",
       "      <td>142228</td>\n",
       "      <td>1</td>\n",
       "      <td>4200</td>\n",
       "    </tr>\n",
       "    <tr>\n",
       "      <th>3</th>\n",
       "      <td>lounge</td>\n",
       "      <td>51</td>\n",
       "      <td>2739</td>\n",
       "      <td>160000</td>\n",
       "      <td>1</td>\n",
       "      <td>6000</td>\n",
       "    </tr>\n",
       "    <tr>\n",
       "      <th>4</th>\n",
       "      <td>pop</td>\n",
       "      <td>73</td>\n",
       "      <td>3074</td>\n",
       "      <td>106880</td>\n",
       "      <td>1</td>\n",
       "      <td>5700</td>\n",
       "    </tr>\n",
       "    <tr>\n",
       "      <th>...</th>\n",
       "      <td>...</td>\n",
       "      <td>...</td>\n",
       "      <td>...</td>\n",
       "      <td>...</td>\n",
       "      <td>...</td>\n",
       "      <td>...</td>\n",
       "    </tr>\n",
       "    <tr>\n",
       "      <th>1533</th>\n",
       "      <td>sport</td>\n",
       "      <td>51</td>\n",
       "      <td>3712</td>\n",
       "      <td>115280</td>\n",
       "      <td>1</td>\n",
       "      <td>5200</td>\n",
       "    </tr>\n",
       "    <tr>\n",
       "      <th>1534</th>\n",
       "      <td>lounge</td>\n",
       "      <td>74</td>\n",
       "      <td>3835</td>\n",
       "      <td>112000</td>\n",
       "      <td>1</td>\n",
       "      <td>4600</td>\n",
       "    </tr>\n",
       "    <tr>\n",
       "      <th>1535</th>\n",
       "      <td>pop</td>\n",
       "      <td>51</td>\n",
       "      <td>2223</td>\n",
       "      <td>60457</td>\n",
       "      <td>1</td>\n",
       "      <td>7500</td>\n",
       "    </tr>\n",
       "    <tr>\n",
       "      <th>1536</th>\n",
       "      <td>lounge</td>\n",
       "      <td>51</td>\n",
       "      <td>2557</td>\n",
       "      <td>80750</td>\n",
       "      <td>1</td>\n",
       "      <td>5990</td>\n",
       "    </tr>\n",
       "    <tr>\n",
       "      <th>1537</th>\n",
       "      <td>pop</td>\n",
       "      <td>51</td>\n",
       "      <td>1766</td>\n",
       "      <td>54276</td>\n",
       "      <td>1</td>\n",
       "      <td>7900</td>\n",
       "    </tr>\n",
       "  </tbody>\n",
       "</table>\n",
       "<p>1538 rows × 6 columns</p>\n",
       "</div>"
      ],
      "text/plain": [
       "       model  engine_power  age_in_days      km  previous_owners  price\n",
       "0     lounge            51          882   25000                1   8900\n",
       "1        pop            51         1186   32500                1   8800\n",
       "2      sport            74         4658  142228                1   4200\n",
       "3     lounge            51         2739  160000                1   6000\n",
       "4        pop            73         3074  106880                1   5700\n",
       "...      ...           ...          ...     ...              ...    ...\n",
       "1533   sport            51         3712  115280                1   5200\n",
       "1534  lounge            74         3835  112000                1   4600\n",
       "1535     pop            51         2223   60457                1   7500\n",
       "1536  lounge            51         2557   80750                1   5990\n",
       "1537     pop            51         1766   54276                1   7900\n",
       "\n",
       "[1538 rows x 6 columns]"
      ]
     },
     "execution_count": 5,
     "metadata": {},
     "output_type": "execute_result"
    }
   ],
   "source": [
    "data1"
   ]
  },
  {
   "cell_type": "code",
   "execution_count": 6,
   "id": "5691bdcd",
   "metadata": {},
   "outputs": [],
   "source": [
    "data1=pd.get_dummies(data1) "
   ]
  },
  {
   "cell_type": "code",
   "execution_count": 7,
   "id": "80bc2710",
   "metadata": {},
   "outputs": [
    {
     "data": {
      "text/html": [
       "<div>\n",
       "<style scoped>\n",
       "    .dataframe tbody tr th:only-of-type {\n",
       "        vertical-align: middle;\n",
       "    }\n",
       "\n",
       "    .dataframe tbody tr th {\n",
       "        vertical-align: top;\n",
       "    }\n",
       "\n",
       "    .dataframe thead th {\n",
       "        text-align: right;\n",
       "    }\n",
       "</style>\n",
       "<table border=\"1\" class=\"dataframe\">\n",
       "  <thead>\n",
       "    <tr style=\"text-align: right;\">\n",
       "      <th></th>\n",
       "      <th>engine_power</th>\n",
       "      <th>age_in_days</th>\n",
       "      <th>km</th>\n",
       "      <th>previous_owners</th>\n",
       "      <th>price</th>\n",
       "      <th>model_lounge</th>\n",
       "      <th>model_pop</th>\n",
       "      <th>model_sport</th>\n",
       "    </tr>\n",
       "  </thead>\n",
       "  <tbody>\n",
       "    <tr>\n",
       "      <th>0</th>\n",
       "      <td>51</td>\n",
       "      <td>882</td>\n",
       "      <td>25000</td>\n",
       "      <td>1</td>\n",
       "      <td>8900</td>\n",
       "      <td>1</td>\n",
       "      <td>0</td>\n",
       "      <td>0</td>\n",
       "    </tr>\n",
       "    <tr>\n",
       "      <th>1</th>\n",
       "      <td>51</td>\n",
       "      <td>1186</td>\n",
       "      <td>32500</td>\n",
       "      <td>1</td>\n",
       "      <td>8800</td>\n",
       "      <td>0</td>\n",
       "      <td>1</td>\n",
       "      <td>0</td>\n",
       "    </tr>\n",
       "    <tr>\n",
       "      <th>2</th>\n",
       "      <td>74</td>\n",
       "      <td>4658</td>\n",
       "      <td>142228</td>\n",
       "      <td>1</td>\n",
       "      <td>4200</td>\n",
       "      <td>0</td>\n",
       "      <td>0</td>\n",
       "      <td>1</td>\n",
       "    </tr>\n",
       "    <tr>\n",
       "      <th>3</th>\n",
       "      <td>51</td>\n",
       "      <td>2739</td>\n",
       "      <td>160000</td>\n",
       "      <td>1</td>\n",
       "      <td>6000</td>\n",
       "      <td>1</td>\n",
       "      <td>0</td>\n",
       "      <td>0</td>\n",
       "    </tr>\n",
       "    <tr>\n",
       "      <th>4</th>\n",
       "      <td>73</td>\n",
       "      <td>3074</td>\n",
       "      <td>106880</td>\n",
       "      <td>1</td>\n",
       "      <td>5700</td>\n",
       "      <td>0</td>\n",
       "      <td>1</td>\n",
       "      <td>0</td>\n",
       "    </tr>\n",
       "    <tr>\n",
       "      <th>...</th>\n",
       "      <td>...</td>\n",
       "      <td>...</td>\n",
       "      <td>...</td>\n",
       "      <td>...</td>\n",
       "      <td>...</td>\n",
       "      <td>...</td>\n",
       "      <td>...</td>\n",
       "      <td>...</td>\n",
       "    </tr>\n",
       "    <tr>\n",
       "      <th>1533</th>\n",
       "      <td>51</td>\n",
       "      <td>3712</td>\n",
       "      <td>115280</td>\n",
       "      <td>1</td>\n",
       "      <td>5200</td>\n",
       "      <td>0</td>\n",
       "      <td>0</td>\n",
       "      <td>1</td>\n",
       "    </tr>\n",
       "    <tr>\n",
       "      <th>1534</th>\n",
       "      <td>74</td>\n",
       "      <td>3835</td>\n",
       "      <td>112000</td>\n",
       "      <td>1</td>\n",
       "      <td>4600</td>\n",
       "      <td>1</td>\n",
       "      <td>0</td>\n",
       "      <td>0</td>\n",
       "    </tr>\n",
       "    <tr>\n",
       "      <th>1535</th>\n",
       "      <td>51</td>\n",
       "      <td>2223</td>\n",
       "      <td>60457</td>\n",
       "      <td>1</td>\n",
       "      <td>7500</td>\n",
       "      <td>0</td>\n",
       "      <td>1</td>\n",
       "      <td>0</td>\n",
       "    </tr>\n",
       "    <tr>\n",
       "      <th>1536</th>\n",
       "      <td>51</td>\n",
       "      <td>2557</td>\n",
       "      <td>80750</td>\n",
       "      <td>1</td>\n",
       "      <td>5990</td>\n",
       "      <td>1</td>\n",
       "      <td>0</td>\n",
       "      <td>0</td>\n",
       "    </tr>\n",
       "    <tr>\n",
       "      <th>1537</th>\n",
       "      <td>51</td>\n",
       "      <td>1766</td>\n",
       "      <td>54276</td>\n",
       "      <td>1</td>\n",
       "      <td>7900</td>\n",
       "      <td>0</td>\n",
       "      <td>1</td>\n",
       "      <td>0</td>\n",
       "    </tr>\n",
       "  </tbody>\n",
       "</table>\n",
       "<p>1538 rows × 8 columns</p>\n",
       "</div>"
      ],
      "text/plain": [
       "      engine_power  age_in_days      km  previous_owners  price  model_lounge  \\\n",
       "0               51          882   25000                1   8900             1   \n",
       "1               51         1186   32500                1   8800             0   \n",
       "2               74         4658  142228                1   4200             0   \n",
       "3               51         2739  160000                1   6000             1   \n",
       "4               73         3074  106880                1   5700             0   \n",
       "...            ...          ...     ...              ...    ...           ...   \n",
       "1533            51         3712  115280                1   5200             0   \n",
       "1534            74         3835  112000                1   4600             1   \n",
       "1535            51         2223   60457                1   7500             0   \n",
       "1536            51         2557   80750                1   5990             1   \n",
       "1537            51         1766   54276                1   7900             0   \n",
       "\n",
       "      model_pop  model_sport  \n",
       "0             0            0  \n",
       "1             1            0  \n",
       "2             0            1  \n",
       "3             0            0  \n",
       "4             1            0  \n",
       "...         ...          ...  \n",
       "1533          0            1  \n",
       "1534          0            0  \n",
       "1535          1            0  \n",
       "1536          0            0  \n",
       "1537          1            0  \n",
       "\n",
       "[1538 rows x 8 columns]"
      ]
     },
     "execution_count": 7,
     "metadata": {},
     "output_type": "execute_result"
    }
   ],
   "source": [
    "data1"
   ]
  },
  {
   "cell_type": "code",
   "execution_count": 8,
   "id": "5c423254",
   "metadata": {},
   "outputs": [],
   "source": [
    "y=data1['price']#predicted value  removed from dataframe\n",
    "x=data1.drop(['price'],axis=1)"
   ]
  },
  {
   "cell_type": "code",
   "execution_count": 9,
   "id": "55776c69",
   "metadata": {},
   "outputs": [],
   "source": [
    "from sklearn.model_selection import train_test_split\n",
    "x_train,x_test,y_train,y_test=train_test_split(x,y,test_size=0.33,random_state=42)"
   ]
  },
  {
   "cell_type": "code",
   "execution_count": null,
   "id": "db9c1fad",
   "metadata": {},
   "outputs": [],
   "source": [
    "#linear model"
   ]
  },
  {
   "cell_type": "code",
   "execution_count": 10,
   "id": "890c6b1b",
   "metadata": {},
   "outputs": [
    {
     "data": {
      "text/html": [
       "<style>#sk-container-id-1 {color: black;background-color: white;}#sk-container-id-1 pre{padding: 0;}#sk-container-id-1 div.sk-toggleable {background-color: white;}#sk-container-id-1 label.sk-toggleable__label {cursor: pointer;display: block;width: 100%;margin-bottom: 0;padding: 0.3em;box-sizing: border-box;text-align: center;}#sk-container-id-1 label.sk-toggleable__label-arrow:before {content: \"▸\";float: left;margin-right: 0.25em;color: #696969;}#sk-container-id-1 label.sk-toggleable__label-arrow:hover:before {color: black;}#sk-container-id-1 div.sk-estimator:hover label.sk-toggleable__label-arrow:before {color: black;}#sk-container-id-1 div.sk-toggleable__content {max-height: 0;max-width: 0;overflow: hidden;text-align: left;background-color: #f0f8ff;}#sk-container-id-1 div.sk-toggleable__content pre {margin: 0.2em;color: black;border-radius: 0.25em;background-color: #f0f8ff;}#sk-container-id-1 input.sk-toggleable__control:checked~div.sk-toggleable__content {max-height: 200px;max-width: 100%;overflow: auto;}#sk-container-id-1 input.sk-toggleable__control:checked~label.sk-toggleable__label-arrow:before {content: \"▾\";}#sk-container-id-1 div.sk-estimator input.sk-toggleable__control:checked~label.sk-toggleable__label {background-color: #d4ebff;}#sk-container-id-1 div.sk-label input.sk-toggleable__control:checked~label.sk-toggleable__label {background-color: #d4ebff;}#sk-container-id-1 input.sk-hidden--visually {border: 0;clip: rect(1px 1px 1px 1px);clip: rect(1px, 1px, 1px, 1px);height: 1px;margin: -1px;overflow: hidden;padding: 0;position: absolute;width: 1px;}#sk-container-id-1 div.sk-estimator {font-family: monospace;background-color: #f0f8ff;border: 1px dotted black;border-radius: 0.25em;box-sizing: border-box;margin-bottom: 0.5em;}#sk-container-id-1 div.sk-estimator:hover {background-color: #d4ebff;}#sk-container-id-1 div.sk-parallel-item::after {content: \"\";width: 100%;border-bottom: 1px solid gray;flex-grow: 1;}#sk-container-id-1 div.sk-label:hover label.sk-toggleable__label {background-color: #d4ebff;}#sk-container-id-1 div.sk-serial::before {content: \"\";position: absolute;border-left: 1px solid gray;box-sizing: border-box;top: 0;bottom: 0;left: 50%;z-index: 0;}#sk-container-id-1 div.sk-serial {display: flex;flex-direction: column;align-items: center;background-color: white;padding-right: 0.2em;padding-left: 0.2em;position: relative;}#sk-container-id-1 div.sk-item {position: relative;z-index: 1;}#sk-container-id-1 div.sk-parallel {display: flex;align-items: stretch;justify-content: center;background-color: white;position: relative;}#sk-container-id-1 div.sk-item::before, #sk-container-id-1 div.sk-parallel-item::before {content: \"\";position: absolute;border-left: 1px solid gray;box-sizing: border-box;top: 0;bottom: 0;left: 50%;z-index: -1;}#sk-container-id-1 div.sk-parallel-item {display: flex;flex-direction: column;z-index: 1;position: relative;background-color: white;}#sk-container-id-1 div.sk-parallel-item:first-child::after {align-self: flex-end;width: 50%;}#sk-container-id-1 div.sk-parallel-item:last-child::after {align-self: flex-start;width: 50%;}#sk-container-id-1 div.sk-parallel-item:only-child::after {width: 0;}#sk-container-id-1 div.sk-dashed-wrapped {border: 1px dashed gray;margin: 0 0.4em 0.5em 0.4em;box-sizing: border-box;padding-bottom: 0.4em;background-color: white;}#sk-container-id-1 div.sk-label label {font-family: monospace;font-weight: bold;display: inline-block;line-height: 1.2em;}#sk-container-id-1 div.sk-label-container {text-align: center;}#sk-container-id-1 div.sk-container {/* jupyter's `normalize.less` sets `[hidden] { display: none; }` but bootstrap.min.css set `[hidden] { display: none !important; }` so we also need the `!important` here to be able to override the default hidden behavior on the sphinx rendered scikit-learn.org. See: https://github.com/scikit-learn/scikit-learn/issues/21755 */display: inline-block !important;position: relative;}#sk-container-id-1 div.sk-text-repr-fallback {display: none;}</style><div id=\"sk-container-id-1\" class=\"sk-top-container\"><div class=\"sk-text-repr-fallback\"><pre>LinearRegression()</pre><b>In a Jupyter environment, please rerun this cell to show the HTML representation or trust the notebook. <br />On GitHub, the HTML representation is unable to render, please try loading this page with nbviewer.org.</b></div><div class=\"sk-container\" hidden><div class=\"sk-item\"><div class=\"sk-estimator sk-toggleable\"><input class=\"sk-toggleable__control sk-hidden--visually\" id=\"sk-estimator-id-1\" type=\"checkbox\" checked><label for=\"sk-estimator-id-1\" class=\"sk-toggleable__label sk-toggleable__label-arrow\">LinearRegression</label><div class=\"sk-toggleable__content\"><pre>LinearRegression()</pre></div></div></div></div></div>"
      ],
      "text/plain": [
       "LinearRegression()"
      ]
     },
     "execution_count": 10,
     "metadata": {},
     "output_type": "execute_result"
    }
   ],
   "source": [
    "from sklearn.linear_model import LinearRegression\n",
    "reg=LinearRegression()#creating object of LinearRegression\n",
    "reg.fit(x_train,y_train)#training and fitting LR object using training data"
   ]
  },
  {
   "cell_type": "code",
   "execution_count": 11,
   "id": "8cf95157",
   "metadata": {},
   "outputs": [],
   "source": [
    "ypred=reg.predict(x_test)#prediction of values(x_test*reg)"
   ]
  },
  {
   "cell_type": "code",
   "execution_count": 12,
   "id": "4858a0ec",
   "metadata": {},
   "outputs": [
    {
     "data": {
      "text/plain": [
       "array([ 5867.6503378 ,  7133.70142341,  9866.35776216,  9723.28874535,\n",
       "       10039.59101162,  9654.07582608,  9673.14563045, 10118.70728123,\n",
       "        9903.85952664,  9351.55828437, 10434.34963575,  7732.26255693,\n",
       "        7698.67240131,  6565.95240435,  9662.90103518, 10373.20344286,\n",
       "        9599.94844451,  7699.34400418,  4941.33017994, 10455.2719478 ,\n",
       "       10370.51555682, 10391.60424404,  7529.06622456,  9952.37340054,\n",
       "        7006.13845729,  9000.1780961 ,  4798.36770637,  6953.10376491,\n",
       "        7810.39767825,  9623.80497535,  7333.52158317,  5229.18705519,\n",
       "        5398.21541073,  5157.65652129,  8948.63632836,  5666.62365159,\n",
       "        9822.1231461 ,  8258.46551788,  6279.2040404 ,  8457.38443276,\n",
       "        9773.86444066,  6767.04074749,  9182.99904787, 10210.05195479,\n",
       "        8694.90545226, 10328.43369248,  9069.05761443,  8866.7826029 ,\n",
       "        7058.39787506,  9073.33877162,  9412.68162121, 10293.69451263,\n",
       "       10072.49011135,  6748.5794244 ,  9785.95841801,  9354.09969973,\n",
       "        9507.9444386 , 10443.01608254,  9795.31884316,  7197.84932877,\n",
       "       10108.31707235,  7009.6597206 ,  9853.90699412,  7146.87414965,\n",
       "        6417.69133992,  9996.97382441,  9781.18795953,  8515.83255277,\n",
       "        8456.30006203,  6499.76668237,  7768.57829985,  6832.86406122,\n",
       "        8347.96113362, 10439.02404036,  7356.43463051,  8562.56562053,\n",
       "        9820.78555199, 10035.83571539,  7370.77198022,  9411.45894006,\n",
       "       10352.85155564,  8045.21588007, 10446.80664758,  3736.20118868,\n",
       "       10348.63930496, 10435.96627494,  6167.80169017, 10390.11317804,\n",
       "        6527.69471073,  9116.4755691 , 10484.52829   ,  9335.69889855,\n",
       "        6709.57413543,  3390.72353093, 10106.33753331,  9792.46732008,\n",
       "        6239.49568346,  4996.26346266,  9044.38667681,  9868.09959448,\n",
       "        5484.13199252,  5698.5954821 , 10086.86206874,  8115.81693479,\n",
       "       10392.37800936,  6835.6573351 ,  6657.61744836,  5738.50576764,\n",
       "        8896.80120764,  9952.37340054, 10390.28377419,  9419.10788866,\n",
       "        9082.56591129, 10122.82465116, 10410.00504522, 10151.77663915,\n",
       "        9714.85367238,  9291.92963633, 10346.99073888,  5384.22311343,\n",
       "        9772.85146492,  6069.77107828,  9023.26394782, 10220.56195956,\n",
       "        9238.89392583,  9931.47195375,  8321.42715662,  8377.80491069,\n",
       "        7528.53327408, 10552.64805598, 10465.02437243, 10110.68940664,\n",
       "       10238.17869436,  6841.77264488,  9625.64505547, 10412.59988875,\n",
       "        9653.06224923,  7948.63618724,  9704.82523573,  7971.05970955,\n",
       "       10399.51752022,  9176.43567301,  5803.03205787,  6698.19524313,\n",
       "        8257.83550573, 10452.95284574,  9948.66454584,  9789.65062843,\n",
       "       10582.50828537,  7568.91955482,  6804.97705225,  8065.01292384,\n",
       "       10310.29143419,  8836.34894739,  8390.05091229,  9582.13932508,\n",
       "        9745.34784981, 10045.45021387, 10294.09872915,  7145.15315349,\n",
       "        9727.85493167,  6281.78952194,  7901.36245623,  9387.9203723 ,\n",
       "        5039.55649797,  9351.49777725,  9980.70844784, 10094.79341516,\n",
       "        6359.24321991,  9856.10227211,  9099.07023804,  5234.05388382,\n",
       "        5534.45288323,  4495.02309231, 10199.78432943, 10024.87037067,\n",
       "        5465.58034188,  8520.72057674,  7034.71038647, 10054.65061446,\n",
       "       10191.12067767,  6008.34860428,  9748.18097947,  9669.4333196 ,\n",
       "        9145.3756075 ,  9175.66562699, 10087.86753845,  9825.02990067,\n",
       "        7340.29803785,  5083.8487301 ,  9441.50914802, 10243.05490667,\n",
       "        5556.42300245, 10676.01945733,  6126.99295838,  9845.16661356,\n",
       "        9850.77978959,  7840.83596305,  6552.05146566,  9938.82104889,\n",
       "        8327.79232274,  9119.62204137,  6111.83787367, 10410.00504522,\n",
       "        6360.97695249,  8601.59209793,  8377.80258216,  9803.81343895,\n",
       "        8285.09831762, 10091.75635129, 10003.86694939, 10028.60283146,\n",
       "       10354.61956534,  8552.21002673,  6726.65446676,  9381.22662706,\n",
       "        6520.9999373 , 10352.85155564,  9063.7534579 , 10456.89121831,\n",
       "        9127.72470241,  9952.37340054,  8376.6975881 ,  9220.36267675,\n",
       "       10036.24981328,  8418.65456209,  4717.7579531 , 10076.86950203,\n",
       "       10017.8490121 , 10590.33289679, 10161.75393066,  4927.49556508,\n",
       "        7276.18410037,  9678.26477249,  9764.65653403,  5643.53722047,\n",
       "       10062.84554534,  5163.04602382,  8307.60791348,  7441.80993846,\n",
       "        7868.82460983,  9725.36143983,  8669.20982667, 10447.15719448,\n",
       "        7124.58453563,  9718.32989102,  8059.66615638,  7430.65975056,\n",
       "       10425.57075395, 10364.18738085,  5433.2724385 ,  9102.40298437,\n",
       "        9629.06913727, 10532.3506032 , 10129.42684118,  9149.48843328,\n",
       "        6158.13422239,  9721.03634157, 10419.02236947,  8838.50241314,\n",
       "        8182.78836676, 10012.21373766,  9468.92324529,  9904.31954667,\n",
       "       10475.66003551, 10475.0702782 ,  9609.27020577,  8115.22501265,\n",
       "       10439.02404036, 10363.81936482,  8720.0683498 ,  8274.3579289 ,\n",
       "        6889.7195761 , 10191.45963957,  4819.0674709 ,  8814.11814085,\n",
       "        5737.62378403, 10051.06593609,  8840.87520652, 10054.31165256,\n",
       "        9686.269121  , 10463.56977746, 10133.15815395,  9762.80613855,\n",
       "        9793.03056946,  6796.69068198,  9599.3262671 ,  8488.31539047,\n",
       "        6705.66818403, 10307.58651641, 10045.18332239, 10120.36242166,\n",
       "        5836.93199112,  8772.49782933,  9680.77538859,  5719.87463854,\n",
       "        8398.59735084,  9680.77538859,  4334.81943405, 10015.00600846,\n",
       "        9850.72458719,  7864.73798641, 10072.71245374, 10552.64805598,\n",
       "       10253.47474908,  6861.80736606,  6484.22649656, 10374.62123623,\n",
       "        8426.37409382,  5447.47569851,  9914.20077691,  4687.39013431,\n",
       "        7885.32100747,  5431.00822998,  9911.86294348, 10390.16991322,\n",
       "        9680.84745901,  8844.57815539,  7764.08471024,  4257.54640953,\n",
       "        9882.76503303, 10341.35258769,  5736.4484335 , 10179.87154436,\n",
       "        9501.423448  ,  7997.3181334 ,  5532.33458288,  9894.57834738,\n",
       "       10437.97459358,  6381.35845844,  9591.23555726,  9574.27908517,\n",
       "       10322.30715736,  9501.22785499,  9789.955758  ,  9593.26549752,\n",
       "        6775.82788536,  7915.34831306, 10389.98590521, 10351.58343315,\n",
       "        7381.32686464,  9966.53983093, 10430.87188433, 10554.43156462,\n",
       "       10285.85574963, 10035.88086558,  9526.63034431,  7742.78157141,\n",
       "        9297.64938364, 10051.42272678, 10004.81256571,  9985.84167026,\n",
       "        9374.6573594 ,  9561.57499854,  9754.94184269,  9819.85893758,\n",
       "        8780.31447831,  6255.99008069,  6281.53627686,  8190.88781577,\n",
       "        8588.91394592,  6566.97963218,  6850.70237466,  5511.29438169,\n",
       "        8119.97866315,  9847.74830838,  7775.93862032,  9875.05509733,\n",
       "       10121.29366536,  5791.92464084,  9835.42728501, 10043.91426822,\n",
       "        8027.28015259,  4527.22080416, 10609.02444098,  3808.29240951,\n",
       "        9952.37340054, 10511.20945172,  5746.34019592,  5486.40214756,\n",
       "       10395.91036208,  6788.47519216,  8953.20120295, 10442.24187982,\n",
       "        9455.6934072 ,  9976.26574762,  8528.35753837,  7960.77147517,\n",
       "       10400.05054235,  5359.97362399,  9899.4913613 , 10203.35814213,\n",
       "       10303.33499967,  9507.16596227,  9151.43928526,  9805.06469343,\n",
       "        5661.99787503,  4904.40690461,  4742.8827765 ,  9663.32864144,\n",
       "        6102.95247322,  9870.62050425, 10066.06916341,  5001.24291171,\n",
       "        8029.35471733,  9773.79143856,  5962.75261232, 10401.02638592,\n",
       "        5511.44251977,  9627.19072277, 10106.26833963, 10199.67798189,\n",
       "        9458.07047019,  4890.1778697 ,  5833.90060934,  7022.25799652,\n",
       "       10011.26407146, 10402.02002918,  9945.08219601,  7770.52280413,\n",
       "        8840.08397206,  9916.27565791, 10287.45603992,  9964.3213269 ,\n",
       "        8403.51255128,  9345.81907605,  8521.46225147,  9743.68712672,\n",
       "        9791.34520178,  9779.16293972,  6753.27416058,  7354.16762745,\n",
       "        8760.24542762,  9923.66596418,  9812.92276721, 10466.90125415,\n",
       "        8163.46726237,  6659.46839415,  9987.65677522,  8866.7826029 ,\n",
       "        9952.37340054, 10187.72427693, 10231.39378767, 10091.11325493,\n",
       "        9365.98570732, 10009.10088406,  9141.00566394, 10099.11667176,\n",
       "        7803.77049829,  6009.84398185,  8800.33824151, 10237.60733785,\n",
       "        5609.98366311, 10097.61555355,  9684.99946572,  7644.67379732,\n",
       "        9276.37891542,  7371.5492091 , 10287.98873148, 10067.26428381,\n",
       "       10552.64805598,  9966.72383894, 10068.46126756,  6232.53552963,\n",
       "       10584.55044373,  9965.98687522, 10529.44404458,  9602.67646085,\n",
       "        9665.77720284,  6186.06948587,  8073.87436253, 10345.58323918,\n",
       "        6344.74803956,  7361.62678204, 10058.57116223,  6792.219309  ,\n",
       "        7897.72464823,  5261.45936067,  4540.24137423,  8709.36468047,\n",
       "        6882.0117409 ,  7406.73353952,  6795.61189392,  7047.27998963,\n",
       "        9945.33400083,  8856.93910595,  9378.02074127, 10389.561154  ,\n",
       "       10092.46332921, 10381.52000388,  9723.92466625,  5996.3331428 ,\n",
       "        9786.14866981,  7708.49649098,  5583.48163469,  4932.92788329,\n",
       "        9856.66053994,  9236.22981005, 10092.64052142,  6256.43516278,\n",
       "        8592.63841379, 10341.5365957 ,  5177.96595576, 10032.66513491,\n",
       "        6281.53627686,  9986.327508  ,  8381.51701951, 10371.14255313])"
      ]
     },
     "execution_count": 12,
     "metadata": {},
     "output_type": "execute_result"
    }
   ],
   "source": [
    "ypred"
   ]
  },
  {
   "cell_type": "code",
   "execution_count": 13,
   "id": "7656dca2",
   "metadata": {},
   "outputs": [
    {
     "data": {
      "text/plain": [
       "0.8415526986865394"
      ]
     },
     "execution_count": 13,
     "metadata": {},
     "output_type": "execute_result"
    }
   ],
   "source": [
    "from sklearn.metrics import r2_score#efficiency\n",
    "r2_score(y_test,ypred)#y_test is actual value #ypred is predicted value"
   ]
  },
  {
   "cell_type": "code",
   "execution_count": 14,
   "id": "9e5a7c93",
   "metadata": {},
   "outputs": [
    {
     "data": {
      "text/plain": [
       "581887.727391353"
      ]
     },
     "execution_count": 14,
     "metadata": {},
     "output_type": "execute_result"
    }
   ],
   "source": [
    "from sklearn.metrics import mean_squared_error #to calculate rmse\n",
    "mean_squared_error(ypred,y_test)"
   ]
  },
  {
   "cell_type": "code",
   "execution_count": 15,
   "id": "a63262d7",
   "metadata": {},
   "outputs": [],
   "source": [
    "Results=pd.DataFrame(columns=['Price','Predicted'])\n",
    "Results['Price']=y_test #price column\n",
    "Results['Predicted']=ypred #predicted  column\n",
    "Results=Results.reset_index()\n",
    "Results['ID']=Results.index"
   ]
  },
  {
   "cell_type": "code",
   "execution_count": 16,
   "id": "ac82ca4a",
   "metadata": {},
   "outputs": [
    {
     "data": {
      "text/html": [
       "<div>\n",
       "<style scoped>\n",
       "    .dataframe tbody tr th:only-of-type {\n",
       "        vertical-align: middle;\n",
       "    }\n",
       "\n",
       "    .dataframe tbody tr th {\n",
       "        vertical-align: top;\n",
       "    }\n",
       "\n",
       "    .dataframe thead th {\n",
       "        text-align: right;\n",
       "    }\n",
       "</style>\n",
       "<table border=\"1\" class=\"dataframe\">\n",
       "  <thead>\n",
       "    <tr style=\"text-align: right;\">\n",
       "      <th></th>\n",
       "      <th>index</th>\n",
       "      <th>Price</th>\n",
       "      <th>Predicted</th>\n",
       "      <th>ID</th>\n",
       "    </tr>\n",
       "  </thead>\n",
       "  <tbody>\n",
       "    <tr>\n",
       "      <th>0</th>\n",
       "      <td>481</td>\n",
       "      <td>7900</td>\n",
       "      <td>5867.650338</td>\n",
       "      <td>0</td>\n",
       "    </tr>\n",
       "    <tr>\n",
       "      <th>1</th>\n",
       "      <td>76</td>\n",
       "      <td>7900</td>\n",
       "      <td>7133.701423</td>\n",
       "      <td>1</td>\n",
       "    </tr>\n",
       "    <tr>\n",
       "      <th>2</th>\n",
       "      <td>1502</td>\n",
       "      <td>9400</td>\n",
       "      <td>9866.357762</td>\n",
       "      <td>2</td>\n",
       "    </tr>\n",
       "    <tr>\n",
       "      <th>3</th>\n",
       "      <td>669</td>\n",
       "      <td>8500</td>\n",
       "      <td>9723.288745</td>\n",
       "      <td>3</td>\n",
       "    </tr>\n",
       "    <tr>\n",
       "      <th>4</th>\n",
       "      <td>1409</td>\n",
       "      <td>9700</td>\n",
       "      <td>10039.591012</td>\n",
       "      <td>4</td>\n",
       "    </tr>\n",
       "    <tr>\n",
       "      <th>5</th>\n",
       "      <td>1414</td>\n",
       "      <td>9900</td>\n",
       "      <td>9654.075826</td>\n",
       "      <td>5</td>\n",
       "    </tr>\n",
       "    <tr>\n",
       "      <th>6</th>\n",
       "      <td>1089</td>\n",
       "      <td>9900</td>\n",
       "      <td>9673.145630</td>\n",
       "      <td>6</td>\n",
       "    </tr>\n",
       "    <tr>\n",
       "      <th>7</th>\n",
       "      <td>1507</td>\n",
       "      <td>9950</td>\n",
       "      <td>10118.707281</td>\n",
       "      <td>7</td>\n",
       "    </tr>\n",
       "    <tr>\n",
       "      <th>8</th>\n",
       "      <td>970</td>\n",
       "      <td>10700</td>\n",
       "      <td>9903.859527</td>\n",
       "      <td>8</td>\n",
       "    </tr>\n",
       "    <tr>\n",
       "      <th>9</th>\n",
       "      <td>1198</td>\n",
       "      <td>8999</td>\n",
       "      <td>9351.558284</td>\n",
       "      <td>9</td>\n",
       "    </tr>\n",
       "    <tr>\n",
       "      <th>10</th>\n",
       "      <td>1088</td>\n",
       "      <td>9890</td>\n",
       "      <td>10434.349636</td>\n",
       "      <td>10</td>\n",
       "    </tr>\n",
       "    <tr>\n",
       "      <th>11</th>\n",
       "      <td>576</td>\n",
       "      <td>7990</td>\n",
       "      <td>7732.262557</td>\n",
       "      <td>11</td>\n",
       "    </tr>\n",
       "    <tr>\n",
       "      <th>12</th>\n",
       "      <td>965</td>\n",
       "      <td>7380</td>\n",
       "      <td>7698.672401</td>\n",
       "      <td>12</td>\n",
       "    </tr>\n",
       "    <tr>\n",
       "      <th>13</th>\n",
       "      <td>1488</td>\n",
       "      <td>6800</td>\n",
       "      <td>6565.952404</td>\n",
       "      <td>13</td>\n",
       "    </tr>\n",
       "    <tr>\n",
       "      <th>14</th>\n",
       "      <td>1432</td>\n",
       "      <td>8900</td>\n",
       "      <td>9662.901035</td>\n",
       "      <td>14</td>\n",
       "    </tr>\n",
       "  </tbody>\n",
       "</table>\n",
       "</div>"
      ],
      "text/plain": [
       "    index  Price     Predicted  ID\n",
       "0     481   7900   5867.650338   0\n",
       "1      76   7900   7133.701423   1\n",
       "2    1502   9400   9866.357762   2\n",
       "3     669   8500   9723.288745   3\n",
       "4    1409   9700  10039.591012   4\n",
       "5    1414   9900   9654.075826   5\n",
       "6    1089   9900   9673.145630   6\n",
       "7    1507   9950  10118.707281   7\n",
       "8     970  10700   9903.859527   8\n",
       "9    1198   8999   9351.558284   9\n",
       "10   1088   9890  10434.349636  10\n",
       "11    576   7990   7732.262557  11\n",
       "12    965   7380   7698.672401  12\n",
       "13   1488   6800   6565.952404  13\n",
       "14   1432   8900   9662.901035  14"
      ]
     },
     "execution_count": 16,
     "metadata": {},
     "output_type": "execute_result"
    }
   ],
   "source": [
    "Results.head(15)"
   ]
  },
  {
   "cell_type": "code",
   "execution_count": 17,
   "id": "20802deb",
   "metadata": {},
   "outputs": [],
   "source": [
    "Results['diff']=Results.apply(lambda row: row.Price-row.Predicted,axis=1) #difference value"
   ]
  },
  {
   "cell_type": "code",
   "execution_count": 18,
   "id": "5398544f",
   "metadata": {},
   "outputs": [
    {
     "data": {
      "text/html": [
       "<div>\n",
       "<style scoped>\n",
       "    .dataframe tbody tr th:only-of-type {\n",
       "        vertical-align: middle;\n",
       "    }\n",
       "\n",
       "    .dataframe tbody tr th {\n",
       "        vertical-align: top;\n",
       "    }\n",
       "\n",
       "    .dataframe thead th {\n",
       "        text-align: right;\n",
       "    }\n",
       "</style>\n",
       "<table border=\"1\" class=\"dataframe\">\n",
       "  <thead>\n",
       "    <tr style=\"text-align: right;\">\n",
       "      <th></th>\n",
       "      <th>index</th>\n",
       "      <th>Price</th>\n",
       "      <th>Predicted</th>\n",
       "      <th>ID</th>\n",
       "      <th>diff</th>\n",
       "    </tr>\n",
       "  </thead>\n",
       "  <tbody>\n",
       "    <tr>\n",
       "      <th>0</th>\n",
       "      <td>481</td>\n",
       "      <td>7900</td>\n",
       "      <td>5867.650338</td>\n",
       "      <td>0</td>\n",
       "      <td>2032.349662</td>\n",
       "    </tr>\n",
       "    <tr>\n",
       "      <th>1</th>\n",
       "      <td>76</td>\n",
       "      <td>7900</td>\n",
       "      <td>7133.701423</td>\n",
       "      <td>1</td>\n",
       "      <td>766.298577</td>\n",
       "    </tr>\n",
       "    <tr>\n",
       "      <th>2</th>\n",
       "      <td>1502</td>\n",
       "      <td>9400</td>\n",
       "      <td>9866.357762</td>\n",
       "      <td>2</td>\n",
       "      <td>-466.357762</td>\n",
       "    </tr>\n",
       "    <tr>\n",
       "      <th>3</th>\n",
       "      <td>669</td>\n",
       "      <td>8500</td>\n",
       "      <td>9723.288745</td>\n",
       "      <td>3</td>\n",
       "      <td>-1223.288745</td>\n",
       "    </tr>\n",
       "    <tr>\n",
       "      <th>4</th>\n",
       "      <td>1409</td>\n",
       "      <td>9700</td>\n",
       "      <td>10039.591012</td>\n",
       "      <td>4</td>\n",
       "      <td>-339.591012</td>\n",
       "    </tr>\n",
       "    <tr>\n",
       "      <th>...</th>\n",
       "      <td>...</td>\n",
       "      <td>...</td>\n",
       "      <td>...</td>\n",
       "      <td>...</td>\n",
       "      <td>...</td>\n",
       "    </tr>\n",
       "    <tr>\n",
       "      <th>503</th>\n",
       "      <td>291</td>\n",
       "      <td>10900</td>\n",
       "      <td>10032.665135</td>\n",
       "      <td>503</td>\n",
       "      <td>867.334865</td>\n",
       "    </tr>\n",
       "    <tr>\n",
       "      <th>504</th>\n",
       "      <td>596</td>\n",
       "      <td>5699</td>\n",
       "      <td>6281.536277</td>\n",
       "      <td>504</td>\n",
       "      <td>-582.536277</td>\n",
       "    </tr>\n",
       "    <tr>\n",
       "      <th>505</th>\n",
       "      <td>1489</td>\n",
       "      <td>9500</td>\n",
       "      <td>9986.327508</td>\n",
       "      <td>505</td>\n",
       "      <td>-486.327508</td>\n",
       "    </tr>\n",
       "    <tr>\n",
       "      <th>506</th>\n",
       "      <td>1436</td>\n",
       "      <td>6990</td>\n",
       "      <td>8381.517020</td>\n",
       "      <td>506</td>\n",
       "      <td>-1391.517020</td>\n",
       "    </tr>\n",
       "    <tr>\n",
       "      <th>507</th>\n",
       "      <td>575</td>\n",
       "      <td>10900</td>\n",
       "      <td>10371.142553</td>\n",
       "      <td>507</td>\n",
       "      <td>528.857447</td>\n",
       "    </tr>\n",
       "  </tbody>\n",
       "</table>\n",
       "<p>508 rows × 5 columns</p>\n",
       "</div>"
      ],
      "text/plain": [
       "     index  Price     Predicted   ID         diff\n",
       "0      481   7900   5867.650338    0  2032.349662\n",
       "1       76   7900   7133.701423    1   766.298577\n",
       "2     1502   9400   9866.357762    2  -466.357762\n",
       "3      669   8500   9723.288745    3 -1223.288745\n",
       "4     1409   9700  10039.591012    4  -339.591012\n",
       "..     ...    ...           ...  ...          ...\n",
       "503    291  10900  10032.665135  503   867.334865\n",
       "504    596   5699   6281.536277  504  -582.536277\n",
       "505   1489   9500   9986.327508  505  -486.327508\n",
       "506   1436   6990   8381.517020  506 -1391.517020\n",
       "507    575  10900  10371.142553  507   528.857447\n",
       "\n",
       "[508 rows x 5 columns]"
      ]
     },
     "execution_count": 18,
     "metadata": {},
     "output_type": "execute_result"
    }
   ],
   "source": [
    "Results"
   ]
  },
  {
   "cell_type": "code",
   "execution_count": 20,
   "id": "e11f7c85",
   "metadata": {},
   "outputs": [
    {
     "data": {
      "text/plain": [
       "<Axes: xlabel='ID', ylabel='Price'>"
      ]
     },
     "execution_count": 20,
     "metadata": {},
     "output_type": "execute_result"
    },
    {
     "data": {
      "image/png": "[encoded data removed]",
      "text/plain": [
       "<Figure size 640x480 with 1 Axes>"
      ]
     },
     "metadata": {},
     "output_type": "display_data"
    }
   ],
   "source": [
    "import seaborn as sns\n",
    "import matplotlib.pyplot as plt\n",
    "sns.lineplot(x='ID',y='Price',data=Results.head(50)) #red is actual\n",
    "sns.lineplot(x='ID',y='Predicted',data=Results.head(50)) #blue is predicted"
   ]
  },
  {
   "cell_type": "code",
   "execution_count": 22,
   "id": "5442e5e1",
   "metadata": {},
   "outputs": [],
   "source": [
    "import warnings\n",
    "warnings.filterwarnings(\"ignore\")"
   ]
  },
  {
   "cell_type": "code",
   "execution_count": null,
   "id": "04b58f77",
   "metadata": {},
   "outputs": [],
   "source": [
    "#ridge model"
   ]
  },
  {
   "cell_type": "code",
   "execution_count": 23,
   "id": "5356c234",
   "metadata": {},
   "outputs": [
    {
     "data": {
      "text/html": [
       "<style>#sk-container-id-3 {color: black;background-color: white;}#sk-container-id-3 pre{padding: 0;}#sk-container-id-3 div.sk-toggleable {background-color: white;}#sk-container-id-3 label.sk-toggleable__label {cursor: pointer;display: block;width: 100%;margin-bottom: 0;padding: 0.3em;box-sizing: border-box;text-align: center;}#sk-container-id-3 label.sk-toggleable__label-arrow:before {content: \"▸\";float: left;margin-right: 0.25em;color: #696969;}#sk-container-id-3 label.sk-toggleable__label-arrow:hover:before {color: black;}#sk-container-id-3 div.sk-estimator:hover label.sk-toggleable__label-arrow:before {color: black;}#sk-container-id-3 div.sk-toggleable__content {max-height: 0;max-width: 0;overflow: hidden;text-align: left;background-color: #f0f8ff;}#sk-container-id-3 div.sk-toggleable__content pre {margin: 0.2em;color: black;border-radius: 0.25em;background-color: #f0f8ff;}#sk-container-id-3 input.sk-toggleable__control:checked~div.sk-toggleable__content {max-height: 200px;max-width: 100%;overflow: auto;}#sk-container-id-3 input.sk-toggleable__control:checked~label.sk-toggleable__label-arrow:before {content: \"▾\";}#sk-container-id-3 div.sk-estimator input.sk-toggleable__control:checked~label.sk-toggleable__label {background-color: #d4ebff;}#sk-container-id-3 div.sk-label input.sk-toggleable__control:checked~label.sk-toggleable__label {background-color: #d4ebff;}#sk-container-id-3 input.sk-hidden--visually {border: 0;clip: rect(1px 1px 1px 1px);clip: rect(1px, 1px, 1px, 1px);height: 1px;margin: -1px;overflow: hidden;padding: 0;position: absolute;width: 1px;}#sk-container-id-3 div.sk-estimator {font-family: monospace;background-color: #f0f8ff;border: 1px dotted black;border-radius: 0.25em;box-sizing: border-box;margin-bottom: 0.5em;}#sk-container-id-3 div.sk-estimator:hover {background-color: #d4ebff;}#sk-container-id-3 div.sk-parallel-item::after {content: \"\";width: 100%;border-bottom: 1px solid gray;flex-grow: 1;}#sk-container-id-3 div.sk-label:hover label.sk-toggleable__label {background-color: #d4ebff;}#sk-container-id-3 div.sk-serial::before {content: \"\";position: absolute;border-left: 1px solid gray;box-sizing: border-box;top: 0;bottom: 0;left: 50%;z-index: 0;}#sk-container-id-3 div.sk-serial {display: flex;flex-direction: column;align-items: center;background-color: white;padding-right: 0.2em;padding-left: 0.2em;position: relative;}#sk-container-id-3 div.sk-item {position: relative;z-index: 1;}#sk-container-id-3 div.sk-parallel {display: flex;align-items: stretch;justify-content: center;background-color: white;position: relative;}#sk-container-id-3 div.sk-item::before, #sk-container-id-3 div.sk-parallel-item::before {content: \"\";position: absolute;border-left: 1px solid gray;box-sizing: border-box;top: 0;bottom: 0;left: 50%;z-index: -1;}#sk-container-id-3 div.sk-parallel-item {display: flex;flex-direction: column;z-index: 1;position: relative;background-color: white;}#sk-container-id-3 div.sk-parallel-item:first-child::after {align-self: flex-end;width: 50%;}#sk-container-id-3 div.sk-parallel-item:last-child::after {align-self: flex-start;width: 50%;}#sk-container-id-3 div.sk-parallel-item:only-child::after {width: 0;}#sk-container-id-3 div.sk-dashed-wrapped {border: 1px dashed gray;margin: 0 0.4em 0.5em 0.4em;box-sizing: border-box;padding-bottom: 0.4em;background-color: white;}#sk-container-id-3 div.sk-label label {font-family: monospace;font-weight: bold;display: inline-block;line-height: 1.2em;}#sk-container-id-3 div.sk-label-container {text-align: center;}#sk-container-id-3 div.sk-container {/* jupyter's `normalize.less` sets `[hidden] { display: none; }` but bootstrap.min.css set `[hidden] { display: none !important; }` so we also need the `!important` here to be able to override the default hidden behavior on the sphinx rendered scikit-learn.org. See: https://github.com/scikit-learn/scikit-learn/issues/21755 */display: inline-block !important;position: relative;}#sk-container-id-3 div.sk-text-repr-fallback {display: none;}</style><div id=\"sk-container-id-3\" class=\"sk-top-container\"><div class=\"sk-text-repr-fallback\"><pre>GridSearchCV(estimator=Ridge(),\n",
       "             param_grid={&#x27;alpha&#x27;: [1e-15, 1e-10, 1e-08, 0.0001, 0.001, 0.01, 1,\n",
       "                                   5, 10, 20, 30]})</pre><b>In a Jupyter environment, please rerun this cell to show the HTML representation or trust the notebook. <br />On GitHub, the HTML representation is unable to render, please try loading this page with nbviewer.org.</b></div><div class=\"sk-container\" hidden><div class=\"sk-item sk-dashed-wrapped\"><div class=\"sk-label-container\"><div class=\"sk-label sk-toggleable\"><input class=\"sk-toggleable__control sk-hidden--visually\" id=\"sk-estimator-id-5\" type=\"checkbox\" ><label for=\"sk-estimator-id-5\" class=\"sk-toggleable__label sk-toggleable__label-arrow\">GridSearchCV</label><div class=\"sk-toggleable__content\"><pre>GridSearchCV(estimator=Ridge(),\n",
       "             param_grid={&#x27;alpha&#x27;: [1e-15, 1e-10, 1e-08, 0.0001, 0.001, 0.01, 1,\n",
       "                                   5, 10, 20, 30]})</pre></div></div></div><div class=\"sk-parallel\"><div class=\"sk-parallel-item\"><div class=\"sk-item\"><div class=\"sk-label-container\"><div class=\"sk-label sk-toggleable\"><input class=\"sk-toggleable__control sk-hidden--visually\" id=\"sk-estimator-id-6\" type=\"checkbox\" ><label for=\"sk-estimator-id-6\" class=\"sk-toggleable__label sk-toggleable__label-arrow\">estimator: Ridge</label><div class=\"sk-toggleable__content\"><pre>Ridge()</pre></div></div></div><div class=\"sk-serial\"><div class=\"sk-item\"><div class=\"sk-estimator sk-toggleable\"><input class=\"sk-toggleable__control sk-hidden--visually\" id=\"sk-estimator-id-7\" type=\"checkbox\" ><label for=\"sk-estimator-id-7\" class=\"sk-toggleable__label sk-toggleable__label-arrow\">Ridge</label><div class=\"sk-toggleable__content\"><pre>Ridge()</pre></div></div></div></div></div></div></div></div></div></div>"
      ],
      "text/plain": [
       "GridSearchCV(estimator=Ridge(),\n",
       "             param_grid={'alpha': [1e-15, 1e-10, 1e-08, 0.0001, 0.001, 0.01, 1,\n",
       "                                   5, 10, 20, 30]})"
      ]
     },
     "execution_count": 23,
     "metadata": {},
     "output_type": "execute_result"
    }
   ],
   "source": [
    "from sklearn.model_selection import GridSearchCV #for ridge\n",
    "from sklearn.linear_model import Ridge\n",
    "alpha=[1e-15,1e-10,1e-8,1e-4,1e-3,1e-2,1,5,10,20,30]\n",
    "ridge=Ridge()\n",
    "parameters={'alpha':alpha}\n",
    "ridge_regressor=GridSearchCV(ridge,parameters)\n",
    "ridge_regressor.fit(x_train,y_train)"
   ]
  },
  {
   "cell_type": "code",
   "execution_count": 24,
   "id": "031df259",
   "metadata": {},
   "outputs": [
    {
     "data": {
      "text/plain": [
       "{'alpha': 30}"
      ]
     },
     "execution_count": 24,
     "metadata": {},
     "output_type": "execute_result"
    }
   ],
   "source": [
    "ridge_regressor.best_params_"
   ]
  },
  {
   "cell_type": "code",
   "execution_count": 25,
   "id": "ecea528e",
   "metadata": {},
   "outputs": [],
   "source": [
    "ridge=Ridge(alpha=30)\n",
    "ridge.fit(x_train,y_train)\n",
    "y_pred_ridge=ridge.predict(x_test) #predicted value"
   ]
  },
  {
   "cell_type": "code",
   "execution_count": 26,
   "id": "a0f11dbb",
   "metadata": {},
   "outputs": [
    {
     "data": {
      "text/plain": [
       "579521.7970897449"
      ]
     },
     "execution_count": 26,
     "metadata": {},
     "output_type": "execute_result"
    }
   ],
   "source": [
    "from sklearn.metrics import mean_squared_error #rmse value\n",
    "Ridge_Error=mean_squared_error(y_pred_ridge,y_test)\n",
    "Ridge_Error"
   ]
  },
  {
   "cell_type": "code",
   "execution_count": 27,
   "id": "7e158347",
   "metadata": {},
   "outputs": [
    {
     "data": {
      "text/plain": [
       "0.8421969385523054"
      ]
     },
     "execution_count": 27,
     "metadata": {},
     "output_type": "execute_result"
    }
   ],
   "source": [
    "from sklearn.metrics import r2_score\n",
    "r2_score(y_test,y_pred_ridge) #efficiency"
   ]
  },
  {
   "cell_type": "code",
   "execution_count": 28,
   "id": "56fa1607",
   "metadata": {},
   "outputs": [
    {
     "data": {
      "text/html": [
       "<div>\n",
       "<style scoped>\n",
       "    .dataframe tbody tr th:only-of-type {\n",
       "        vertical-align: middle;\n",
       "    }\n",
       "\n",
       "    .dataframe tbody tr th {\n",
       "        vertical-align: top;\n",
       "    }\n",
       "\n",
       "    .dataframe thead th {\n",
       "        text-align: right;\n",
       "    }\n",
       "</style>\n",
       "<table border=\"1\" class=\"dataframe\">\n",
       "  <thead>\n",
       "    <tr style=\"text-align: right;\">\n",
       "      <th></th>\n",
       "      <th>index</th>\n",
       "      <th>Actual</th>\n",
       "      <th>Predicted</th>\n",
       "      <th>ID</th>\n",
       "    </tr>\n",
       "  </thead>\n",
       "  <tbody>\n",
       "    <tr>\n",
       "      <th>0</th>\n",
       "      <td>481</td>\n",
       "      <td>7900</td>\n",
       "      <td>5869.741155</td>\n",
       "      <td>0</td>\n",
       "    </tr>\n",
       "    <tr>\n",
       "      <th>1</th>\n",
       "      <td>76</td>\n",
       "      <td>7900</td>\n",
       "      <td>7149.563327</td>\n",
       "      <td>1</td>\n",
       "    </tr>\n",
       "    <tr>\n",
       "      <th>2</th>\n",
       "      <td>1502</td>\n",
       "      <td>9400</td>\n",
       "      <td>9862.785355</td>\n",
       "      <td>2</td>\n",
       "    </tr>\n",
       "    <tr>\n",
       "      <th>3</th>\n",
       "      <td>669</td>\n",
       "      <td>8500</td>\n",
       "      <td>9719.283532</td>\n",
       "      <td>3</td>\n",
       "    </tr>\n",
       "    <tr>\n",
       "      <th>4</th>\n",
       "      <td>1409</td>\n",
       "      <td>9700</td>\n",
       "      <td>10035.895686</td>\n",
       "      <td>4</td>\n",
       "    </tr>\n",
       "    <tr>\n",
       "      <th>5</th>\n",
       "      <td>1414</td>\n",
       "      <td>9900</td>\n",
       "      <td>9650.311090</td>\n",
       "      <td>5</td>\n",
       "    </tr>\n",
       "    <tr>\n",
       "      <th>6</th>\n",
       "      <td>1089</td>\n",
       "      <td>9900</td>\n",
       "      <td>9669.183317</td>\n",
       "      <td>6</td>\n",
       "    </tr>\n",
       "    <tr>\n",
       "      <th>7</th>\n",
       "      <td>1507</td>\n",
       "      <td>9950</td>\n",
       "      <td>10115.128380</td>\n",
       "      <td>7</td>\n",
       "    </tr>\n",
       "    <tr>\n",
       "      <th>8</th>\n",
       "      <td>970</td>\n",
       "      <td>10700</td>\n",
       "      <td>9900.241944</td>\n",
       "      <td>8</td>\n",
       "    </tr>\n",
       "    <tr>\n",
       "      <th>9</th>\n",
       "      <td>1198</td>\n",
       "      <td>8999</td>\n",
       "      <td>9347.080772</td>\n",
       "      <td>9</td>\n",
       "    </tr>\n",
       "  </tbody>\n",
       "</table>\n",
       "</div>"
      ],
      "text/plain": [
       "   index  Actual     Predicted  ID\n",
       "0    481    7900   5869.741155   0\n",
       "1     76    7900   7149.563327   1\n",
       "2   1502    9400   9862.785355   2\n",
       "3    669    8500   9719.283532   3\n",
       "4   1409    9700  10035.895686   4\n",
       "5   1414    9900   9650.311090   5\n",
       "6   1089    9900   9669.183317   6\n",
       "7   1507    9950  10115.128380   7\n",
       "8    970   10700   9900.241944   8\n",
       "9   1198    8999   9347.080772   9"
      ]
     },
     "execution_count": 28,
     "metadata": {},
     "output_type": "execute_result"
    }
   ],
   "source": [
    "Results=pd.DataFrame(columns=['Actual','Predicted'])\n",
    "Results['Actual']=y_test\n",
    "Results['Predicted']=y_pred_ridge\n",
    "Results=Results.reset_index()\n",
    "Results['ID']=Results.index #replaces id with index number\n",
    "Results.head(10)"
   ]
  },
  {
   "cell_type": "code",
   "execution_count": 29,
   "id": "b7fb1a54",
   "metadata": {},
   "outputs": [
    {
     "data": {
      "text/plain": [
       "<Axes: xlabel='ID', ylabel='Actual'>"
      ]
     },
     "execution_count": 29,
     "metadata": {},
     "output_type": "execute_result"
    },
    {
     "data": {
      "image/png": "[encoded data removed]",
      "text/plain": [
       "<Figure size 640x480 with 1 Axes>"
      ]
     },
     "metadata": {},
     "output_type": "display_data"
    }
   ],
   "source": [
    "import seaborn as sns\n",
    "import matplotlib.pyplot as plt\n",
    "sns.lineplot(x='ID',y='Actual',data=Results.head(50)) #red is actual\n",
    "sns.lineplot(x='ID',y='Predicted',data=Results.head(50)) #blue is predicted"
   ]
  },
  {
   "cell_type": "code",
   "execution_count": 37,
   "id": "527dabc3",
   "metadata": {},
   "outputs": [],
   "source": [
    "#elasticmodel"
   ]
  },
  {
   "cell_type": "code",
   "execution_count": 30,
   "id": "5ce3321c",
   "metadata": {},
   "outputs": [
    {
     "data": {
      "text/html": [
       "<style>#sk-container-id-4 {color: black;background-color: white;}#sk-container-id-4 pre{padding: 0;}#sk-container-id-4 div.sk-toggleable {background-color: white;}#sk-container-id-4 label.sk-toggleable__label {cursor: pointer;display: block;width: 100%;margin-bottom: 0;padding: 0.3em;box-sizing: border-box;text-align: center;}#sk-container-id-4 label.sk-toggleable__label-arrow:before {content: \"▸\";float: left;margin-right: 0.25em;color: #696969;}#sk-container-id-4 label.sk-toggleable__label-arrow:hover:before {color: black;}#sk-container-id-4 div.sk-estimator:hover label.sk-toggleable__label-arrow:before {color: black;}#sk-container-id-4 div.sk-toggleable__content {max-height: 0;max-width: 0;overflow: hidden;text-align: left;background-color: #f0f8ff;}#sk-container-id-4 div.sk-toggleable__content pre {margin: 0.2em;color: black;border-radius: 0.25em;background-color: #f0f8ff;}#sk-container-id-4 input.sk-toggleable__control:checked~div.sk-toggleable__content {max-height: 200px;max-width: 100%;overflow: auto;}#sk-container-id-4 input.sk-toggleable__control:checked~label.sk-toggleable__label-arrow:before {content: \"▾\";}#sk-container-id-4 div.sk-estimator input.sk-toggleable__control:checked~label.sk-toggleable__label {background-color: #d4ebff;}#sk-container-id-4 div.sk-label input.sk-toggleable__control:checked~label.sk-toggleable__label {background-color: #d4ebff;}#sk-container-id-4 input.sk-hidden--visually {border: 0;clip: rect(1px 1px 1px 1px);clip: rect(1px, 1px, 1px, 1px);height: 1px;margin: -1px;overflow: hidden;padding: 0;position: absolute;width: 1px;}#sk-container-id-4 div.sk-estimator {font-family: monospace;background-color: #f0f8ff;border: 1px dotted black;border-radius: 0.25em;box-sizing: border-box;margin-bottom: 0.5em;}#sk-container-id-4 div.sk-estimator:hover {background-color: #d4ebff;}#sk-container-id-4 div.sk-parallel-item::after {content: \"\";width: 100%;border-bottom: 1px solid gray;flex-grow: 1;}#sk-container-id-4 div.sk-label:hover label.sk-toggleable__label {background-color: #d4ebff;}#sk-container-id-4 div.sk-serial::before {content: \"\";position: absolute;border-left: 1px solid gray;box-sizing: border-box;top: 0;bottom: 0;left: 50%;z-index: 0;}#sk-container-id-4 div.sk-serial {display: flex;flex-direction: column;align-items: center;background-color: white;padding-right: 0.2em;padding-left: 0.2em;position: relative;}#sk-container-id-4 div.sk-item {position: relative;z-index: 1;}#sk-container-id-4 div.sk-parallel {display: flex;align-items: stretch;justify-content: center;background-color: white;position: relative;}#sk-container-id-4 div.sk-item::before, #sk-container-id-4 div.sk-parallel-item::before {content: \"\";position: absolute;border-left: 1px solid gray;box-sizing: border-box;top: 0;bottom: 0;left: 50%;z-index: -1;}#sk-container-id-4 div.sk-parallel-item {display: flex;flex-direction: column;z-index: 1;position: relative;background-color: white;}#sk-container-id-4 div.sk-parallel-item:first-child::after {align-self: flex-end;width: 50%;}#sk-container-id-4 div.sk-parallel-item:last-child::after {align-self: flex-start;width: 50%;}#sk-container-id-4 div.sk-parallel-item:only-child::after {width: 0;}#sk-container-id-4 div.sk-dashed-wrapped {border: 1px dashed gray;margin: 0 0.4em 0.5em 0.4em;box-sizing: border-box;padding-bottom: 0.4em;background-color: white;}#sk-container-id-4 div.sk-label label {font-family: monospace;font-weight: bold;display: inline-block;line-height: 1.2em;}#sk-container-id-4 div.sk-label-container {text-align: center;}#sk-container-id-4 div.sk-container {/* jupyter's `normalize.less` sets `[hidden] { display: none; }` but bootstrap.min.css set `[hidden] { display: none !important; }` so we also need the `!important` here to be able to override the default hidden behavior on the sphinx rendered scikit-learn.org. See: https://github.com/scikit-learn/scikit-learn/issues/21755 */display: inline-block !important;position: relative;}#sk-container-id-4 div.sk-text-repr-fallback {display: none;}</style><div id=\"sk-container-id-4\" class=\"sk-top-container\"><div class=\"sk-text-repr-fallback\"><pre>GridSearchCV(estimator=ElasticNet(),\n",
       "             param_grid={&#x27;alpha&#x27;: [1e-15, 1e-10, 1e-08, 0.0001, 0.001, 0.01, 1,\n",
       "                                   5, 10, 20]})</pre><b>In a Jupyter environment, please rerun this cell to show the HTML representation or trust the notebook. <br />On GitHub, the HTML representation is unable to render, please try loading this page with nbviewer.org.</b></div><div class=\"sk-container\" hidden><div class=\"sk-item sk-dashed-wrapped\"><div class=\"sk-label-container\"><div class=\"sk-label sk-toggleable\"><input class=\"sk-toggleable__control sk-hidden--visually\" id=\"sk-estimator-id-8\" type=\"checkbox\" ><label for=\"sk-estimator-id-8\" class=\"sk-toggleable__label sk-toggleable__label-arrow\">GridSearchCV</label><div class=\"sk-toggleable__content\"><pre>GridSearchCV(estimator=ElasticNet(),\n",
       "             param_grid={&#x27;alpha&#x27;: [1e-15, 1e-10, 1e-08, 0.0001, 0.001, 0.01, 1,\n",
       "                                   5, 10, 20]})</pre></div></div></div><div class=\"sk-parallel\"><div class=\"sk-parallel-item\"><div class=\"sk-item\"><div class=\"sk-label-container\"><div class=\"sk-label sk-toggleable\"><input class=\"sk-toggleable__control sk-hidden--visually\" id=\"sk-estimator-id-9\" type=\"checkbox\" ><label for=\"sk-estimator-id-9\" class=\"sk-toggleable__label sk-toggleable__label-arrow\">estimator: ElasticNet</label><div class=\"sk-toggleable__content\"><pre>ElasticNet()</pre></div></div></div><div class=\"sk-serial\"><div class=\"sk-item\"><div class=\"sk-estimator sk-toggleable\"><input class=\"sk-toggleable__control sk-hidden--visually\" id=\"sk-estimator-id-10\" type=\"checkbox\" ><label for=\"sk-estimator-id-10\" class=\"sk-toggleable__label sk-toggleable__label-arrow\">ElasticNet</label><div class=\"sk-toggleable__content\"><pre>ElasticNet()</pre></div></div></div></div></div></div></div></div></div></div>"
      ],
      "text/plain": [
       "GridSearchCV(estimator=ElasticNet(),\n",
       "             param_grid={'alpha': [1e-15, 1e-10, 1e-08, 0.0001, 0.001, 0.01, 1,\n",
       "                                   5, 10, 20]})"
      ]
     },
     "execution_count": 30,
     "metadata": {},
     "output_type": "execute_result"
    }
   ],
   "source": [
    "from sklearn.model_selection import GridSearchCV\n",
    "from sklearn.linear_model import ElasticNet #for elastic net model\n",
    "elastic = ElasticNet()\n",
    "parameters = {'alpha': [1e-15, 1e-10, 1e-8, 1e-4, 1e-3,1e-2, 1, 5, 10, 20]}\n",
    "elastic_regressor = GridSearchCV(elastic, parameters)\n",
    "elastic_regressor.fit(x_train, y_train)"
   ]
  },
  {
   "cell_type": "code",
   "execution_count": 31,
   "id": "d0dd6d1b",
   "metadata": {},
   "outputs": [
    {
     "data": {
      "text/plain": [
       "{'alpha': 0.01}"
      ]
     },
     "execution_count": 31,
     "metadata": {},
     "output_type": "execute_result"
    }
   ],
   "source": [
    "elastic_regressor.best_params_  #alpha value"
   ]
  },
  {
   "cell_type": "code",
   "execution_count": 32,
   "id": "de589a4d",
   "metadata": {},
   "outputs": [],
   "source": [
    "elastic=ElasticNet(alpha=0.01)\n",
    "elastic.fit(x_train,y_train)\n",
    "y_pred_elastic=elastic.predict(x_test) #predicted value"
   ]
  },
  {
   "cell_type": "code",
   "execution_count": 33,
   "id": "b346395a",
   "metadata": {},
   "outputs": [
    {
     "data": {
      "text/plain": [
       "581390.7642825295"
      ]
     },
     "execution_count": 33,
     "metadata": {},
     "output_type": "execute_result"
    }
   ],
   "source": [
    "from sklearn.metrics import mean_squared_error #rmse value\n",
    "ElasticNet_Error=mean_squared_error(y_pred_elastic,y_test)\n",
    "ElasticNet_Error"
   ]
  },
  {
   "cell_type": "code",
   "execution_count": 34,
   "id": "bb7110e4",
   "metadata": {},
   "outputs": [
    {
     "data": {
      "text/plain": [
       "0.841688021120299"
      ]
     },
     "execution_count": 34,
     "metadata": {},
     "output_type": "execute_result"
    }
   ],
   "source": [
    "from sklearn.metrics import r2_score\n",
    "r2_score(y_test,y_pred_elastic) #efficiency"
   ]
  },
  {
   "cell_type": "code",
   "execution_count": 35,
   "id": "9dd6fd5f",
   "metadata": {},
   "outputs": [
    {
     "data": {
      "text/html": [
       "<div>\n",
       "<style scoped>\n",
       "    .dataframe tbody tr th:only-of-type {\n",
       "        vertical-align: middle;\n",
       "    }\n",
       "\n",
       "    .dataframe tbody tr th {\n",
       "        vertical-align: top;\n",
       "    }\n",
       "\n",
       "    .dataframe thead th {\n",
       "        text-align: right;\n",
       "    }\n",
       "</style>\n",
       "<table border=\"1\" class=\"dataframe\">\n",
       "  <thead>\n",
       "    <tr style=\"text-align: right;\">\n",
       "      <th></th>\n",
       "      <th>index</th>\n",
       "      <th>Actual</th>\n",
       "      <th>Predicted</th>\n",
       "      <th>ID</th>\n",
       "    </tr>\n",
       "  </thead>\n",
       "  <tbody>\n",
       "    <tr>\n",
       "      <th>0</th>\n",
       "      <td>481</td>\n",
       "      <td>7900</td>\n",
       "      <td>5867.742075</td>\n",
       "      <td>0</td>\n",
       "    </tr>\n",
       "    <tr>\n",
       "      <th>1</th>\n",
       "      <td>76</td>\n",
       "      <td>7900</td>\n",
       "      <td>7136.527402</td>\n",
       "      <td>1</td>\n",
       "    </tr>\n",
       "    <tr>\n",
       "      <th>2</th>\n",
       "      <td>1502</td>\n",
       "      <td>9400</td>\n",
       "      <td>9865.726723</td>\n",
       "      <td>2</td>\n",
       "    </tr>\n",
       "    <tr>\n",
       "      <th>3</th>\n",
       "      <td>669</td>\n",
       "      <td>8500</td>\n",
       "      <td>9722.573593</td>\n",
       "      <td>3</td>\n",
       "    </tr>\n",
       "    <tr>\n",
       "      <th>4</th>\n",
       "      <td>1409</td>\n",
       "      <td>9700</td>\n",
       "      <td>10038.936496</td>\n",
       "      <td>4</td>\n",
       "    </tr>\n",
       "    <tr>\n",
       "      <th>5</th>\n",
       "      <td>1414</td>\n",
       "      <td>9900</td>\n",
       "      <td>9653.407122</td>\n",
       "      <td>5</td>\n",
       "    </tr>\n",
       "    <tr>\n",
       "      <th>6</th>\n",
       "      <td>1089</td>\n",
       "      <td>9900</td>\n",
       "      <td>9672.438692</td>\n",
       "      <td>6</td>\n",
       "    </tr>\n",
       "    <tr>\n",
       "      <th>7</th>\n",
       "      <td>1507</td>\n",
       "      <td>9950</td>\n",
       "      <td>10118.075470</td>\n",
       "      <td>7</td>\n",
       "    </tr>\n",
       "    <tr>\n",
       "      <th>8</th>\n",
       "      <td>970</td>\n",
       "      <td>10700</td>\n",
       "      <td>9903.219809</td>\n",
       "      <td>8</td>\n",
       "    </tr>\n",
       "    <tr>\n",
       "      <th>9</th>\n",
       "      <td>1198</td>\n",
       "      <td>8999</td>\n",
       "      <td>9350.750929</td>\n",
       "      <td>9</td>\n",
       "    </tr>\n",
       "  </tbody>\n",
       "</table>\n",
       "</div>"
      ],
      "text/plain": [
       "   index  Actual     Predicted  ID\n",
       "0    481    7900   5867.742075   0\n",
       "1     76    7900   7136.527402   1\n",
       "2   1502    9400   9865.726723   2\n",
       "3    669    8500   9722.573593   3\n",
       "4   1409    9700  10038.936496   4\n",
       "5   1414    9900   9653.407122   5\n",
       "6   1089    9900   9672.438692   6\n",
       "7   1507    9950  10118.075470   7\n",
       "8    970   10700   9903.219809   8\n",
       "9   1198    8999   9350.750929   9"
      ]
     },
     "execution_count": 35,
     "metadata": {},
     "output_type": "execute_result"
    }
   ],
   "source": [
    "Results=pd.DataFrame(columns=['Actual','Predicted'])\n",
    "Results['Actual']=y_test\n",
    "Results['Predicted']=y_pred_elastic\n",
    "Results=Results.reset_index()\n",
    "Results['ID']=Results.index #replaces id with index number\n",
    "Results.head(10)"
   ]
  },
  {
   "cell_type": "code",
   "execution_count": 36,
   "id": "ab568528",
   "metadata": {},
   "outputs": [
    {
     "data": {
      "text/plain": [
       "<Axes: xlabel='ID', ylabel='Actual'>"
      ]
     },
     "execution_count": 36,
     "metadata": {},
     "output_type": "execute_result"
    },
    {
     "data": {
      "image/png": "[encoded data removed]",
      "text/plain": [
       "<Figure size 640x480 with 1 Axes>"
      ]
     },
     "metadata": {},
     "output_type": "display_data"
    }
   ],
   "source": [
    "import seaborn as sns\n",
    "import matplotlib.pyplot as plt\n",
    "sns.lineplot(x='ID',y='Actual',data=Results.head(50)) #red is actual\n",
    "sns.lineplot(x='ID',y='Predicted',data=Results.head(50)) #blue is predicted"
   ]
  },
  {
   "cell_type": "code",
   "execution_count": null,
   "id": "31bfef42",
   "metadata": {},
   "outputs": [],
   "source": []
  }
 ],
 "metadata": {
  "kernelspec": {
   "display_name": "Python 3 (ipykernel)",
   "language": "python",
   "name": "python3"
  },
  "language_info": {
   "codemirror_mode": {
    "name": "ipython",
    "version": 3
   },
   "file_extension": ".py",
   "mimetype": "text/x-python",
   "name": "python",
   "nbconvert_exporter": "python",
   "pygments_lexer": "ipython3",
   "version": "3.10.9"
  }
 },
 "nbformat": 4,
 "nbformat_minor": 5
}
